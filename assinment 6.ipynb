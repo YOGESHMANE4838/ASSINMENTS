{
 "cells": [
  {
   "cell_type": "raw",
   "id": "60d3bb5a",
   "metadata": {},
   "source": [
    "What are escape characters, and how do you use them?\n",
    "answer- to insert characters that are illegal in a string , that that we have to use escape character.\n",
    "escape character is a backslash \\ followed by the character you want to insert..\n"
   ]
  },
  {
   "cell_type": "raw",
   "id": "1b3cf4c5",
   "metadata": {},
   "source": [
    "What do the escape characters n and t stand for?\n",
    "answer- \\n\tNew Line\n",
    "\\t\tTab\n",
    "\n"
   ]
  },
  {
   "cell_type": "raw",
   "id": "49e63553",
   "metadata": {},
   "source": [
    " What is the way to include backslash characters in a string\n",
    " answer-  if i have to include backlash character then we have to add two backslash character into the string."
   ]
  },
  {
   "cell_type": "raw",
   "id": "5bd98f77",
   "metadata": {},
   "source": [
    " # The string \"Howl's Moving Castle\" is a correct value. Why isn't the single quote character in the word Howl's not escaped a problem?\n",
    " answer- \n",
    " \n"
   ]
  },
  {
   "cell_type": "code",
   "execution_count": 1,
   "id": "a1b3957c",
   "metadata": {},
   "outputs": [],
   "source": [
    "a = \"Howl's Moving Castle\""
   ]
  },
  {
   "cell_type": "raw",
   "id": "6e8ecf5b",
   "metadata": {},
   "source": [
    "So in the case of \"Howl's Moving Castle\", since the string is enclosed in double quotes, the single quote character within the string is not causing a problem and does not need to be escaped"
   ]
  },
  {
   "cell_type": "raw",
   "id": "75b4f52d",
   "metadata": {},
   "source": [
    ". How do you write a string of newlines if you don't want to use the n character?\n",
    "answer- ny using os module will gate newline character sequence .\"os.linesep\"we can use instead of n character."
   ]
  },
  {
   "cell_type": "raw",
   "id": "ffeecac5",
   "metadata": {},
   "source": [
    "6. What are the values of the given expressions?"
   ]
  },
  {
   "cell_type": "code",
   "execution_count": 2,
   "id": "5373408f",
   "metadata": {},
   "outputs": [
    {
     "data": {
      "text/plain": [
       "'e'"
      ]
     },
     "execution_count": 2,
     "metadata": {},
     "output_type": "execute_result"
    }
   ],
   "source": [
    "'Hello, world!'[1]"
   ]
  },
  {
   "cell_type": "code",
   "execution_count": 3,
   "id": "7d963948",
   "metadata": {},
   "outputs": [
    {
     "data": {
      "text/plain": [
       "'Hello'"
      ]
     },
     "execution_count": 3,
     "metadata": {},
     "output_type": "execute_result"
    }
   ],
   "source": [
    "'Hello, world!'[0:5]"
   ]
  },
  {
   "cell_type": "code",
   "execution_count": 4,
   "id": "3ea57146",
   "metadata": {},
   "outputs": [
    {
     "data": {
      "text/plain": [
       "'Hello'"
      ]
     },
     "execution_count": 4,
     "metadata": {},
     "output_type": "execute_result"
    }
   ],
   "source": [
    "'Hello, world!'[:5]"
   ]
  },
  {
   "cell_type": "code",
   "execution_count": 5,
   "id": "c49e67ca",
   "metadata": {},
   "outputs": [
    {
     "data": {
      "text/plain": [
       "'lo, world!'"
      ]
     },
     "execution_count": 5,
     "metadata": {},
     "output_type": "execute_result"
    }
   ],
   "source": [
    "'Hello, world!'[3:]"
   ]
  },
  {
   "cell_type": "code",
   "execution_count": 6,
   "id": "e934043b",
   "metadata": {},
   "outputs": [
    {
     "data": {
      "text/plain": [
       "['Remember,', 'remember,', 'the', 'fifth', 'of', 'July.']"
      ]
     },
     "execution_count": 6,
     "metadata": {},
     "output_type": "execute_result"
    }
   ],
   "source": [
    "'Remember, remember, the fifth of July.'.split()"
   ]
  },
  {
   "cell_type": "code",
   "execution_count": 7,
   "id": "802af670",
   "metadata": {},
   "outputs": [
    {
     "data": {
      "text/plain": [
       "'There-can-only-one.'"
      ]
     },
     "execution_count": 7,
     "metadata": {},
     "output_type": "execute_result"
    }
   ],
   "source": [
    "'-'.join('There can only one.'.split())\n"
   ]
  },
  {
   "cell_type": "code",
   "execution_count": 8,
   "id": "bebc9382",
   "metadata": {},
   "outputs": [
    {
     "name": "stdout",
     "output_type": "stream",
     "text": [
      "Object `string` not found.\n"
     ]
    },
    {
     "data": {
      "text/plain": [
       "'    yogesh'"
      ]
     },
     "execution_count": 8,
     "metadata": {},
     "output_type": "execute_result"
    }
   ],
   "source": [
    "9. What are the methods for right-justifying, left-justifying, and centering a string?\n",
    "\n",
    "\"yogesh\".rjust(10)"
   ]
  },
  {
   "cell_type": "code",
   "execution_count": 9,
   "id": "f58ac0c5",
   "metadata": {},
   "outputs": [
    {
     "data": {
      "text/plain": [
       "'yogesh    '"
      ]
     },
     "execution_count": 9,
     "metadata": {},
     "output_type": "execute_result"
    }
   ],
   "source": [
    "\"yogesh\".ljust(10)"
   ]
  },
  {
   "cell_type": "code",
   "execution_count": 10,
   "id": "b9ec950e",
   "metadata": {},
   "outputs": [
    {
     "data": {
      "text/plain": [
       "'                 yogesh                 '"
      ]
     },
     "execution_count": 10,
     "metadata": {},
     "output_type": "execute_result"
    }
   ],
   "source": [
    "\"yogesh\".center(40)"
   ]
  },
  {
   "cell_type": "code",
   "execution_count": 12,
   "id": "d5a9dc24",
   "metadata": {},
   "outputs": [
    {
     "data": {
      "text/plain": [
       "'yogesh'"
      ]
     },
     "execution_count": 12,
     "metadata": {},
     "output_type": "execute_result"
    }
   ],
   "source": [
    "# What is the best way to remove whitespace characters from the start or end?\n",
    "\"      yogesh      \".strip()"
   ]
  },
  {
   "cell_type": "code",
   "execution_count": null,
   "id": "1757606d",
   "metadata": {},
   "outputs": [],
   "source": []
  }
 ],
 "metadata": {
  "kernelspec": {
   "display_name": "Python 3 (ipykernel)",
   "language": "python",
   "name": "python3"
  },
  "language_info": {
   "codemirror_mode": {
    "name": "ipython",
    "version": 3
   },
   "file_extension": ".py",
   "mimetype": "text/x-python",
   "name": "python",
   "nbconvert_exporter": "python",
   "pygments_lexer": "ipython3",
   "version": "3.9.13"
  }
 },
 "nbformat": 4,
 "nbformat_minor": 5
}
