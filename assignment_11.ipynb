{
 "cells": [
  {
   "cell_type": "code",
   "execution_count": null,
   "id": "062cec97",
   "metadata": {},
   "outputs": [],
   "source": [
    "1. #Create an assert statement that throws an AssertionError if the variable spam is a negative integer.\n",
    "spam = -3\n",
    "assert spam > 0 "
   ]
  },
  {
   "cell_type": "code",
   "execution_count": 2,
   "id": "8d855c5d",
   "metadata": {},
   "outputs": [],
   "source": [
    "#Write an assert statement that triggers an AssertionError if the variables eggs and bacon contain strings that are the same as each other, even if their cases are different (that is, 'hello' and 'hello' are considered #the same, and 'goodbye' and 'GOODbye' are also considered the same).\n",
    "eggs = 'HELLO'\n",
    "\n",
    "bacon = \"hello\"\n",
    "\n",
    "assert  eggs.lower() == bacon.lower() ,\"assertion error: strings are not same \"\n",
    "        \n",
    "\n",
    "    \n"
   ]
  },
  {
   "cell_type": "code",
   "execution_count": 3,
   "id": "1a41718c",
   "metadata": {},
   "outputs": [
    {
     "ename": "AssertionError",
     "evalue": "assertion error: strings are not same ",
     "output_type": "error",
     "traceback": [
      "\u001b[1;31m---------------------------------------------------------------------------\u001b[0m",
      "\u001b[1;31mAssertionError\u001b[0m                            Traceback (most recent call last)",
      "\u001b[1;32m~\\AppData\\Local\\Temp\\ipykernel_17576\\1404489435.py\u001b[0m in \u001b[0;36m<module>\u001b[1;34m\u001b[0m\n\u001b[0;32m      3\u001b[0m \u001b[0mbacon\u001b[0m \u001b[1;33m=\u001b[0m \u001b[1;34m\"bye\"\u001b[0m\u001b[1;33m\u001b[0m\u001b[1;33m\u001b[0m\u001b[0m\n\u001b[0;32m      4\u001b[0m \u001b[1;33m\u001b[0m\u001b[0m\n\u001b[1;32m----> 5\u001b[1;33m \u001b[1;32massert\u001b[0m  \u001b[0meggs\u001b[0m\u001b[1;33m.\u001b[0m\u001b[0mlower\u001b[0m\u001b[1;33m(\u001b[0m\u001b[1;33m)\u001b[0m \u001b[1;33m==\u001b[0m \u001b[0mbacon\u001b[0m\u001b[1;33m.\u001b[0m\u001b[0mlower\u001b[0m\u001b[1;33m(\u001b[0m\u001b[1;33m)\u001b[0m \u001b[1;33m,\u001b[0m\u001b[1;34m\"assertion error: strings are not same \"\u001b[0m\u001b[1;33m\u001b[0m\u001b[1;33m\u001b[0m\u001b[0m\n\u001b[0m\u001b[0;32m      6\u001b[0m \u001b[1;33m\u001b[0m\u001b[0m\n",
      "\u001b[1;31mAssertionError\u001b[0m: assertion error: strings are not same "
     ]
    }
   ],
   "source": [
    "eggs = 'HELLO'\n",
    "\n",
    "bacon = \"bye\"\n",
    "\n",
    "assert  eggs.lower() == bacon.lower() ,\"assertion error: strings are not same \"\n",
    "        "
   ]
  },
  {
   "cell_type": "code",
   "execution_count": 4,
   "id": "72a4ed63",
   "metadata": {},
   "outputs": [
    {
     "ename": "AssertionError",
     "evalue": "This assertion always throws an AssertionError",
     "output_type": "error",
     "traceback": [
      "\u001b[1;31m---------------------------------------------------------------------------\u001b[0m",
      "\u001b[1;31mAssertionError\u001b[0m                            Traceback (most recent call last)",
      "\u001b[1;32m~\\AppData\\Local\\Temp\\ipykernel_17576\\857864144.py\u001b[0m in \u001b[0;36m<module>\u001b[1;34m\u001b[0m\n\u001b[0;32m      1\u001b[0m \u001b[1;31m#Create an assert statement that throws an AssertionError every time.\u001b[0m\u001b[1;33m\u001b[0m\u001b[1;33m\u001b[0m\u001b[0m\n\u001b[1;32m----> 2\u001b[1;33m \u001b[1;32massert\u001b[0m \u001b[1;32mFalse\u001b[0m\u001b[1;33m,\u001b[0m \u001b[1;34m\"This assertion always throws an AssertionError\"\u001b[0m\u001b[1;33m\u001b[0m\u001b[1;33m\u001b[0m\u001b[0m\n\u001b[0m",
      "\u001b[1;31mAssertionError\u001b[0m: This assertion always throws an AssertionError"
     ]
    }
   ],
   "source": [
    "#Create an assert statement that throws an AssertionError every time.\n",
    "assert False, \"This assertion always throws an AssertionError\""
   ]
  },
  {
   "cell_type": "raw",
   "id": "88da35f6",
   "metadata": {},
   "source": [
    " What are the two lines that must be present in your software in order to call logging.debug()?\n",
    "answer- 1 st one is logging module and 2nd is logging.basicCofig(level=logging.debug)\n"
   ]
  },
  {
   "cell_type": "raw",
   "id": "47b1ce7c",
   "metadata": {},
   "source": [
    "fWhat are the two lines that your program must have in order to have logging.debug() send a logging message to a file named programLog.txt?\n",
    "answer- \n",
    "1 st line import logging\n",
    "and 2 nd line\n",
    " logging.basicConfig(filename=programlog.txt, level= logging.debug)"
   ]
  },
  {
   "cell_type": "raw",
   "id": "1001f348",
   "metadata": {},
   "source": [
    "What are the five levels of logging?\n",
    "1)debug\n",
    "2)info\n",
    "3)worning\n",
    "4)error\n",
    "5)critical\n"
   ]
  },
  {
   "cell_type": "raw",
   "id": "122e8425",
   "metadata": {},
   "source": [
    ". What line of code would you add to your software to disable all logging messages?\n",
    "answer - \n",
    "import logging\n",
    "\n",
    "logging.disable(logging.CRITICAL)"
   ]
  },
  {
   "cell_type": "raw",
   "id": "03b33a66",
   "metadata": {},
   "source": [
    ".Why is using logging messages better than using print() to display the same message?\n",
    "answer-\n",
    "-in logging we can easily  control format, we can store log in defined files.  easy to caby lopture diffrent log level according to requirement. by logging it easy to handel exceptions as campare to print() statment. and logging is a standardization campare to print() statment."
   ]
  },
  {
   "cell_type": "raw",
   "id": "de50b111",
   "metadata": {},
   "source": [
    "What are the differences between the Step Over, Step In, and Step Out buttons in the debugger?\n",
    " answer- Step Over executes the current line and moves to the next line, skipping function calls.\n",
    "Step In enters into the called function and continues debugging inside that function.\n",
    "Step Out executes the remaining lines of the current function and returns to the calling function."
   ]
  },
  {
   "cell_type": "raw",
   "id": "5211bb33",
   "metadata": {},
   "source": [
    "after you click Continue, when will the debugger stop ?\n",
    "\n",
    "answer - after clicking continue debugger will continue code without pausing untill it encounter with breakpoint or program complition or any exception observed inside the code."
   ]
  },
  {
   "cell_type": "raw",
   "id": "ab1a5f4d",
   "metadata": {},
   "source": [
    ". What is the concept of a breakpoint?\n",
    "answer -  breakpoint is a marker or point in the code where the debugger should pause execution during the debugging process\n"
   ]
  }
 ],
 "metadata": {
  "kernelspec": {
   "display_name": "Python 3 (ipykernel)",
   "language": "python",
   "name": "python3"
  },
  "language_info": {
   "codemirror_mode": {
    "name": "ipython",
    "version": 3
   },
   "file_extension": ".py",
   "mimetype": "text/x-python",
   "name": "python",
   "nbconvert_exporter": "python",
   "pygments_lexer": "ipython3",
   "version": "3.9.13"
  }
 },
 "nbformat": 4,
 "nbformat_minor": 5
}
