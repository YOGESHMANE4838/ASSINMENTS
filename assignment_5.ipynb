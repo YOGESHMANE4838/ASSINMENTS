{
 "cells": [
  {
   "cell_type": "markdown",
   "id": "02aec104",
   "metadata": {},
   "source": [
    "1. What does an empty dictionary&#39;s code look like?\n",
    "answer - {} "
   ]
  },
  {
   "cell_type": "code",
   "execution_count": 3,
   "id": "8980540a",
   "metadata": {},
   "outputs": [],
   "source": [
    "#2. What is the value of a dictionary value with the key 'foo' and the value 42?\n",
    "value = {\"key\":\"foo\"}\n"
   ]
  },
  {
   "cell_type": "code",
   "execution_count": 7,
   "id": "686f6a1b",
   "metadata": {},
   "outputs": [
    {
     "data": {
      "text/plain": [
       "dict_values(['foo'])"
      ]
     },
     "execution_count": 7,
     "metadata": {},
     "output_type": "execute_result"
    }
   ],
   "source": [
    "value.values()"
   ]
  },
  {
   "cell_type": "code",
   "execution_count": 8,
   "id": "bdc65f13",
   "metadata": {},
   "outputs": [],
   "source": [
    "#3. What is the most significant distinction between a dictionary and a list?\n",
    "# answer - list is a ordered collection of values, and dictionary is an collection of key and values pair.in dictionary each element is accessed by its key."
   ]
  },
  {
   "cell_type": "code",
   "execution_count": 10,
   "id": "253c3dc5",
   "metadata": {},
   "outputs": [],
   "source": [
    "#4. What happens if you try to access spam[\"foo\"] if spam is {'bar': 100}?\n",
    "spam =  {'bar': 100}\n",
    "    "
   ]
  },
  {
   "cell_type": "code",
   "execution_count": 14,
   "id": "c4f8b068",
   "metadata": {},
   "outputs": [
    {
     "ename": "NameError",
     "evalue": "name 'foo' is not defined",
     "output_type": "error",
     "traceback": [
      "\u001b[1;31m---------------------------------------------------------------------------\u001b[0m",
      "\u001b[1;31mNameError\u001b[0m                                 Traceback (most recent call last)",
      "\u001b[1;32m~\\AppData\\Local\\Temp\\ipykernel_23100\\3761701460.py\u001b[0m in \u001b[0;36m<module>\u001b[1;34m\u001b[0m\n\u001b[1;32m----> 1\u001b[1;33m \u001b[0mspam\u001b[0m\u001b[1;33m[\u001b[0m\u001b[0mfoo\u001b[0m\u001b[1;33m]\u001b[0m\u001b[1;33m\u001b[0m\u001b[1;33m\u001b[0m\u001b[0m\n\u001b[0m\u001b[0;32m      2\u001b[0m \u001b[1;31m# system will show  name 'foo' is not defined. name error will come.\u001b[0m\u001b[1;33m\u001b[0m\u001b[1;33m\u001b[0m\u001b[0m\n",
      "\u001b[1;31mNameError\u001b[0m: name 'foo' is not defined"
     ]
    }
   ],
   "source": [
    "spam[foo]\n",
    "# system will show  name 'foo' is not defined. name error will come."
   ]
  },
  {
   "cell_type": "code",
   "execution_count": 22,
   "id": "94d00777",
   "metadata": {},
   "outputs": [
    {
     "data": {
      "text/plain": [
       "True"
      ]
     },
     "execution_count": 22,
     "metadata": {},
     "output_type": "execute_result"
    }
   ],
   "source": [
    "#If a dictionary is stored in spam, what is the difference between the expressions 'cat' in spam and\n",
    "#'cat' in spam.keys()?\n",
    "spam = {\"cat\":12,\"dog\":1,\"lion\":4}\n",
    "\"cat\"in spam"
   ]
  },
  {
   "cell_type": "code",
   "execution_count": 37,
   "id": "b0c41ca4",
   "metadata": {},
   "outputs": [
    {
     "data": {
      "text/plain": [
       "True"
      ]
     },
     "execution_count": 37,
     "metadata": {},
     "output_type": "execute_result"
    }
   ],
   "source": [
    " \"cat\" in spam.keys()"
   ]
  },
  {
   "cell_type": "code",
   "execution_count": 38,
   "id": "e631deca",
   "metadata": {},
   "outputs": [
    {
     "data": {
      "text/plain": [
       "False"
      ]
     },
     "execution_count": 38,
     "metadata": {},
     "output_type": "execute_result"
    }
   ],
   "source": [
    "# -6-\n",
    "\"cat\" in spam.values()"
   ]
  },
  {
   "cell_type": "code",
   "execution_count": 39,
   "id": "18fca69f",
   "metadata": {},
   "outputs": [
    {
     "data": {
      "text/plain": [
       "'black'"
      ]
     },
     "execution_count": 39,
     "metadata": {},
     "output_type": "execute_result"
    }
   ],
   "source": [
    "#7)\n",
    "#answer\n",
    "spam.setdefault('colour', 'black')"
   ]
  },
  {
   "cell_type": "code",
   "execution_count": 45,
   "id": "bfd13b6e",
   "metadata": {},
   "outputs": [
    {
     "name": "stdout",
     "output_type": "stream",
     "text": [
      "{'cat': 12, 'dog': 1, 'lion': 5}\n"
     ]
    }
   ],
   "source": [
    "#8)\n",
    "import pprint\n",
    "\n",
    "spam = {\"cat\":12,\"dog\":1,\"lion\":5}\n",
    "        \n",
    "pprint.pprint(spam)"
   ]
  },
  {
   "cell_type": "code",
   "execution_count": null,
   "id": "20fcf743",
   "metadata": {},
   "outputs": [],
   "source": []
  }
 ],
 "metadata": {
  "kernelspec": {
   "display_name": "Python 3 (ipykernel)",
   "language": "python",
   "name": "python3"
  },
  "language_info": {
   "codemirror_mode": {
    "name": "ipython",
    "version": 3
   },
   "file_extension": ".py",
   "mimetype": "text/x-python",
   "name": "python",
   "nbconvert_exporter": "python",
   "pygments_lexer": "ipython3",
   "version": "3.9.13"
  }
 },
 "nbformat": 4,
 "nbformat_minor": 5
}
