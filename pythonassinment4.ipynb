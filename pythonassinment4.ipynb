{
 "cells": [
  {
   "cell_type": "code",
   "execution_count": null,
   "id": "3edd88c0",
   "metadata": {},
   "outputs": [],
   "source": [
    "#What exactly is []?\n",
    "answer-its a index brackets.\n",
    "its used to define list in python.\n"
   ]
  },
  {
   "cell_type": "code",
   "execution_count": 3,
   "id": "eb39b088",
   "metadata": {},
   "outputs": [
    {
     "data": {
      "text/plain": [
       "[2, 4, 6, 'hello', 8, 10]"
      ]
     },
     "execution_count": 3,
     "metadata": {},
     "output_type": "execute_result"
    }
   ],
   "source": [
    "# In a list of values stored in a variable called spam, how would you assign the hello as the third value? (Assume [2, 4, 6, 8, 10] are in spam.)\n",
    "spam = [2, 4, 6, 8, 10]\n",
    "spam.insert(3,\"hello\")\n",
    "spam\n",
    "\n"
   ]
  },
  {
   "cell_type": "code",
   "execution_count": 9,
   "id": "cfb22310",
   "metadata": {},
   "outputs": [],
   "source": [
    "# Let pretend the spam includes the list [a,b,c,d] for the next three queries.\n",
    "# 3. What is the value of spam[int(int('3' * 2) / 11)]?\n"
   ]
  },
  {
   "cell_type": "code",
   "execution_count": 11,
   "id": "0ad32878",
   "metadata": {},
   "outputs": [
    {
     "data": {
      "text/plain": [
       "'d'"
      ]
     },
     "execution_count": 11,
     "metadata": {},
     "output_type": "execute_result"
    }
   ],
   "source": [
    "spam = [\"a\",\"b\",\"c\",\"d\"]\n",
    "spam[int(int('3' * 2) / 11)]"
   ]
  },
  {
   "cell_type": "code",
   "execution_count": 12,
   "id": "60d37e7b",
   "metadata": {},
   "outputs": [
    {
     "data": {
      "text/plain": [
       "'d'"
      ]
     },
     "execution_count": 12,
     "metadata": {},
     "output_type": "execute_result"
    }
   ],
   "source": [
    "# What is the value of spam[-1]?\n",
    "spam[-1]"
   ]
  },
  {
   "cell_type": "code",
   "execution_count": 15,
   "id": "01050557",
   "metadata": {},
   "outputs": [
    {
     "data": {
      "text/plain": [
       "['a', 'b']"
      ]
     },
     "execution_count": 15,
     "metadata": {},
     "output_type": "execute_result"
    }
   ],
   "source": [
    "# What is the value of spam[:2]\n",
    "spam[:2]"
   ]
  },
  {
   "cell_type": "code",
   "execution_count": 36,
   "id": "62d246d7",
   "metadata": {},
   "outputs": [
    {
     "data": {
      "text/plain": [
       "1"
      ]
     },
     "execution_count": 36,
     "metadata": {},
     "output_type": "execute_result"
    }
   ],
   "source": [
    "#Let's pretend bacon has the list [3.14, 'cat,' 11, 'cat,' True] for the next three questions.\n",
    "#6. What is the value of bacon.index('cat')?\n",
    "\n",
    "\n",
    "bacon =  [3.14, 'cat',11 , 'cat', True]\n",
    "bacon.index('cat') \n",
    "\n"
   ]
  },
  {
   "cell_type": "code",
   "execution_count": 37,
   "id": "23c3daaa",
   "metadata": {},
   "outputs": [
    {
     "data": {
      "text/plain": [
       "[3.14, 'cat', 11, 'cat', True, 99]"
      ]
     },
     "execution_count": 37,
     "metadata": {},
     "output_type": "execute_result"
    }
   ],
   "source": [
    "#7. How does bacon.append(99) change the look of the list value in bacon?\n",
    "bacon.append(99)\n",
    "bacon"
   ]
  },
  {
   "cell_type": "code",
   "execution_count": 38,
   "id": "e5ece1cc",
   "metadata": {},
   "outputs": [
    {
     "data": {
      "text/plain": [
       "[3.14, 11, 'cat', True, 99]"
      ]
     },
     "execution_count": 38,
     "metadata": {},
     "output_type": "execute_result"
    }
   ],
   "source": [
    "#8 How does bacon.remove('cat') change the look of the list in bacon?\n",
    "bacon.remove('cat')\n",
    "bacon"
   ]
  },
  {
   "cell_type": "raw",
   "id": "8bdd0a6a",
   "metadata": {},
   "source": [
    "#9. What are the list concatenation and list replication operators?\n",
    "answer -list concatination operators used to concatination of two list in python, by using \"+\" sign .\n",
    "list replication oprator used for replication of two list in python, by using \"*\" sign.\n"
   ]
  },
  {
   "cell_type": "code",
   "execution_count": 57,
   "id": "62bdc07d",
   "metadata": {},
   "outputs": [
    {
     "name": "stdout",
     "output_type": "stream",
     "text": [
      "[3.14, 'cat', 11, 'cat', True, 'yogesh']\n",
      "['mane', 3.14, 'cat', 11, 'cat', True, 'yogesh']\n"
     ]
    }
   ],
   "source": [
    "#10. What is difference between the list methods append() and insert()?\n",
    "#answer- append add element at last of list, and insert function insert the given element at a perticular index. \n",
    "bacon =  [3.14, 'cat',11 , 'cat', True]\n",
    "bacon.append(\"yogesh\")\n",
    "print(bacon)\n",
    "bacon.insert(0,\"mane\")\n",
    "print(bacon)\n"
   ]
  },
  {
   "cell_type": "code",
   "execution_count": 58,
   "id": "78de6c50",
   "metadata": {},
   "outputs": [
    {
     "data": {
      "text/plain": [
       "['mane', 3.14, 'cat', 11, 'cat', True, 'yogesh']"
      ]
     },
     "execution_count": 58,
     "metadata": {},
     "output_type": "execute_result"
    }
   ],
   "source": [
    "#11. What are the two methods for removing items from a list?\n",
    "bacon"
   ]
  },
  {
   "cell_type": "code",
   "execution_count": 59,
   "id": "3691a363",
   "metadata": {},
   "outputs": [
    {
     "data": {
      "text/plain": [
       "[3.14, 'cat', 11, 'cat', True, 'yogesh']"
      ]
     },
     "execution_count": 59,
     "metadata": {},
     "output_type": "execute_result"
    }
   ],
   "source": [
    "#answer - for removal of itom from list there are two methods 1)remove function 2) pop function\n",
    "bacon.remove(\"mane\")\n",
    "bacon"
   ]
  },
  {
   "cell_type": "code",
   "execution_count": 60,
   "id": "ee45c38f",
   "metadata": {},
   "outputs": [
    {
     "data": {
      "text/plain": [
       "'yogesh'"
      ]
     },
     "execution_count": 60,
     "metadata": {},
     "output_type": "execute_result"
    }
   ],
   "source": [
    "bacon.pop()                                              "
   ]
  },
  {
   "cell_type": "code",
   "execution_count": 61,
   "id": "e06b1cc2",
   "metadata": {},
   "outputs": [],
   "source": [
    "#12. Describe how list values and string values are identical.\n",
    "# answer-in list and strings both having index, both having sequence starting from 0.\n"
   ]
  },
  {
   "cell_type": "code",
   "execution_count": 62,
   "id": "e9e6c005",
   "metadata": {},
   "outputs": [],
   "source": [
    "#3. What's the difference between tuples and lists?\n",
    "# answer- tuples are immutable and list are mutable.\n",
    "\n"
   ]
  },
  {
   "cell_type": "code",
   "execution_count": 65,
   "id": "b469c35c",
   "metadata": {},
   "outputs": [
    {
     "data": {
      "text/plain": [
       "tuple"
      ]
     },
     "execution_count": 65,
     "metadata": {},
     "output_type": "execute_result"
    }
   ],
   "source": [
    "#14. How do you type a tuple value that only contains the integer 42?\n",
    "a = (42,)\n",
    "type(a)"
   ]
  },
  {
   "cell_type": "code",
   "execution_count": 66,
   "id": "5b02c7b0",
   "metadata": {},
   "outputs": [],
   "source": [
    "#15. How do you get a list value's tuple form? How do you get a tuple value's list form?\n",
    "# answer- by using tuple buildin function and bu using list buildin function .."
   ]
  },
  {
   "cell_type": "code",
   "execution_count": 67,
   "id": "b3c1638e",
   "metadata": {},
   "outputs": [],
   "source": [
    "#16. Variables that \"contain\" list values are not necessarily lists themselves. Instead, what do they contain?\n",
    "# answer - variables that \"contain\" list values are not actually containing the list values themselves, but rather a reference to the list object in memory. This means that the variable is pointing to the memory location where the list object is stored.\n"
   ]
  },
  {
   "cell_type": "code",
   "execution_count": null,
   "id": "e5a74bab",
   "metadata": {},
   "outputs": [],
   "source": [
    "#17. How do you distinguish between copy.copy() and copy.deepcopy()?\n",
    "#answer - opy.copy() creates a shallow copy of an object, which means that it creates a new object with a new memory address, but the contents of the object are still references to the same memory locations as the original object.\n",
    "#copy.deepcopy() creates a deep copy of an object, which means that it creates a new object with a new memory address, and the contents of the object are also copied recursively to new memory locations\n"
   ]
  }
 ],
 "metadata": {
  "kernelspec": {
   "display_name": "Python 3 (ipykernel)",
   "language": "python",
   "name": "python3"
  },
  "language_info": {
   "codemirror_mode": {
    "name": "ipython",
    "version": 3
   },
   "file_extension": ".py",
   "mimetype": "text/x-python",
   "name": "python",
   "nbconvert_exporter": "python",
   "pygments_lexer": "ipython3",
   "version": "3.9.13"
  }
 },
 "nbformat": 4,
 "nbformat_minor": 5
}
