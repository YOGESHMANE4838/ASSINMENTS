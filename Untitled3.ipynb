{
 "cells": [
  {
   "cell_type": "raw",
   "id": "b74bb690",
   "metadata": {},
   "source": [
    "1. In the below elements which of them are values or an expression? eg:- values can be integer or string and expressions will be mathematical operators.\n",
    "* - Expression\n",
    "'hello'- VALUE\n",
    "-87.8 - VALUE\n",
    "- -Expression\n",
    "/ -expression\n",
    "+ - Expression\t\n",
    "6 -Value\n"
   ]
  },
  {
   "cell_type": "raw",
   "id": "69cc6108",
   "metadata": {},
   "source": [
    "What is the difference between string and variable?\n",
    "answer -   variable is store of information, variable is any alphabet that we are use to reprresent some values.string is a type of value that can be stored in a variable."
   ]
  },
  {
   "cell_type": "raw",
   "id": "67414039",
   "metadata": {},
   "source": [
    "Describe three different data types.\n",
    "answer - integer- number without decimal point.\n",
    "float -  having decimal number.\n",
    "complex number- having one known part and another one imaginary part.\n",
    "string - collection of characters\n",
    "boolean- having two values (true and false)"
   ]
  },
  {
   "cell_type": "raw",
   "id": "a298a5f8",
   "metadata": {},
   "source": [
    "What is an expression made up of? What do all expressions do?\n",
    "ans - it is a mixture of operators and operands. and it will give some other values.\n"
   ]
  },
  {
   "cell_type": "raw",
   "id": "a8354eda",
   "metadata": {},
   "source": [
    "This assignment statements, like spam = 10. What is the difference between an expression and a statement?\n",
    "answer-statment is creation variable and store a data so here the integer value stored in spam variable, but if expression is there means it will give same results from the input.\n"
   ]
  },
  {
   "cell_type": "raw",
   "id": "1edb785b",
   "metadata": {},
   "source": [
    "# After running the following code, what does the variable bacon contain?\n",
    "#answer - \n",
    "bacon = 22 \n",
    "print(bacon +1)"
   ]
  },
  {
   "cell_type": "raw",
   "id": "737b6646",
   "metadata": {},
   "source": [
    "\n",
    "# What should the values of the following two terms be?\n",
    "print('spam' + 'spamspam')\n",
    "print('spam' * 3)\n",
    " results =spamspamspam\n",
    "spamspamspam\n"
   ]
  },
  {
   "cell_type": "raw",
   "id": "c50c8866",
   "metadata": {},
   "source": [
    "8. Why is eggs a valid variable name while 100 is invalid?\n",
    "answer= because variable name should start with alphabate and undersore symbol."
   ]
  }
 ],
 "metadata": {
  "kernelspec": {
   "display_name": "Python 3 (ipykernel)",
   "language": "python",
   "name": "python3"
  },
  "language_info": {
   "codemirror_mode": {
    "name": "ipython",
    "version": 3
   },
   "file_extension": ".py",
   "mimetype": "text/x-python",
   "name": "python",
   "nbconvert_exporter": "python",
   "pygments_lexer": "ipython3",
   "version": "3.9.13"
  }
 },
 "nbformat": 4,
 "nbformat_minor": 5
}
