{
 "cells": [
  {
   "cell_type": "raw",
   "id": "b41e1f3c",
   "metadata": {},
   "source": [
    "#1. Why are functions advantageous to have in your programs?\n",
    "answer - its reduces the need of duplicate code. we can use function as and when required so its reduces the complexcity  of the code.  \n"
   ]
  },
  {
   "cell_type": "raw",
   "id": "78db2279",
   "metadata": {},
   "source": [
    "2. When does the code in a function run: when it's specified or when it's called?\n",
    "answer - when function called its run not when its specified."
   ]
  },
  {
   "cell_type": "raw",
   "id": "92312d29",
   "metadata": {},
   "source": [
    "3. What statement creates a function?\n",
    "answer - def statment creat a function."
   ]
  },
  {
   "cell_type": "raw",
   "id": "09f29486",
   "metadata": {},
   "source": [
    "What is the difference between a function and a function call?\n",
    "answer - \n",
    "function is ablock of code it will run when it called.\n",
    "function call is an instruction that executes the code within a function."
   ]
  },
  {
   "cell_type": "raw",
   "id": "61d12d9c",
   "metadata": {},
   "source": [
    "How many global scopes are there in a Python program? How many local scopes?\n",
    "answer - There is one global scope, and a local scope is created whenever a function is called.\n",
    "\n"
   ]
  },
  {
   "cell_type": "raw",
   "id": "4761e236",
   "metadata": {},
   "source": [
    "What happens to variables. in a local scope when the function call returns?\n",
    "answer- When a function returns, the local scope is destroyed, and all the variables in it are forgotten."
   ]
  },
  {
   "cell_type": "raw",
   "id": "0cbf111a",
   "metadata": {},
   "source": [
    "What is the concept of a return value? Is it possible to have a return value in an expression?\n",
    "answer- a return value is the value that a function or method gives back to the caller after it has finished executing. and yes its possible to have return value in a  expression.\n"
   ]
  },
  {
   "cell_type": "raw",
   "id": "62b4f795",
   "metadata": {},
   "source": [
    "8. If a function does not have a return statement, what is the return value of a call to that function?\n",
    "answer - If there is no return statement for a function, its return value is None\n"
   ]
  },
  {
   "cell_type": "code",
   "execution_count": 4,
   "id": "75a985bc",
   "metadata": {},
   "outputs": [],
   "source": [
    "def test1(a,b):\n",
    "    return"
   ]
  },
  {
   "cell_type": "code",
   "execution_count": 9,
   "id": "b6bb3214",
   "metadata": {},
   "outputs": [
    {
     "data": {
      "text/plain": [
       "NoneType"
      ]
     },
     "execution_count": 9,
     "metadata": {},
     "output_type": "execute_result"
    }
   ],
   "source": [
    "type(test1(4,5))"
   ]
  },
  {
   "cell_type": "raw",
   "id": "3fdabe05",
   "metadata": {},
   "source": [
    "9. How do you make a function variable refer to the global variable?\n",
    "answer - by using \"global\" keyword in functions\n"
   ]
  },
  {
   "cell_type": "raw",
   "id": "2e7df568",
   "metadata": {},
   "source": [
    "What is the data type of None?\n",
    "answer -NONE TYPE."
   ]
  },
  {
   "cell_type": "raw",
   "id": "08445202",
   "metadata": {},
   "source": [
    "11. What does the sentence import areallyourpetsnamederic do?\n",
    "answer-the import statment import the module areallyourpetsnamederic."
   ]
  },
  {
   "cell_type": "code",
   "execution_count": 10,
   "id": "a88e3375",
   "metadata": {},
   "outputs": [
    {
     "ename": "ModuleNotFoundError",
     "evalue": "No module named 'areallyourpetsnamederic'",
     "output_type": "error",
     "traceback": [
      "\u001b[1;31m---------------------------------------------------------------------------\u001b[0m",
      "\u001b[1;31mModuleNotFoundError\u001b[0m                       Traceback (most recent call last)",
      "\u001b[1;32m~\\AppData\\Local\\Temp\\ipykernel_3172\\51184242.py\u001b[0m in \u001b[0;36m<module>\u001b[1;34m\u001b[0m\n\u001b[1;32m----> 1\u001b[1;33m \u001b[1;32mimport\u001b[0m \u001b[0mareallyourpetsnamederic\u001b[0m\u001b[1;33m\u001b[0m\u001b[1;33m\u001b[0m\u001b[0m\n\u001b[0m",
      "\u001b[1;31mModuleNotFoundError\u001b[0m: No module named 'areallyourpetsnamederic'"
     ]
    }
   ],
   "source": [
    "import areallyourpetsnamederic"
   ]
  },
  {
   "cell_type": "raw",
   "id": "df03871d",
   "metadata": {},
   "source": [
    "If you had a bacon() feature in a spam module, what would you call it after importing spam?\n",
    "   answer-  spam.bacon()"
   ]
  },
  {
   "cell_type": "raw",
   "id": "7b767733",
   "metadata": {},
   "source": [
    ". What can you do to save a programme from crashing if it encounters an error?\n",
    "answer - i can use the try-except block to catch exceptions that occur in the try block and handle them in the except block. "
   ]
  },
  {
   "cell_type": "raw",
   "id": "a6e7835f",
   "metadata": {},
   "source": [
    "What is the purpose of the try clause? What is the purpose of the except clause?\n",
    "answer -  Without the try and except blocks, the program would crash with an error message. By using the try and except blocks, you can handle exceptions and prevent them from crashing the program, allowing it to continue running normally."
   ]
  }
 ],
 "metadata": {
  "kernelspec": {
   "display_name": "Python 3 (ipykernel)",
   "language": "python",
   "name": "python3"
  },
  "language_info": {
   "codemirror_mode": {
    "name": "ipython",
    "version": 3
   },
   "file_extension": ".py",
   "mimetype": "text/x-python",
   "name": "python",
   "nbconvert_exporter": "python",
   "pygments_lexer": "ipython3",
   "version": "3.9.13"
  }
 },
 "nbformat": 4,
 "nbformat_minor": 5
}
