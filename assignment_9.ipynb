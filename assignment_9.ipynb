{
 "cells": [
  {
   "cell_type": "raw",
   "id": "1b6d4b64",
   "metadata": {},
   "source": [
    "1. To what does a relative path refer?\n",
    "answer - relative path that shows location of current file on that we are working.  \n"
   ]
  },
  {
   "cell_type": "raw",
   "id": "1769794a",
   "metadata": {},
   "source": [
    "2. What does an absolute path start with your operating system?\n",
    "answer-     its start with  hard drive name.\n"
   ]
  },
  {
   "cell_type": "code",
   "execution_count": 14,
   "id": "10c9f0e0",
   "metadata": {},
   "outputs": [
    {
     "name": "stdout",
     "output_type": "stream",
     "text": [
      "C:\\Users\\RAKES\n"
     ]
    }
   ],
   "source": [
    " import os\n",
    "cwd=  os.getcwd()\n",
    "#its shows current work directory \n",
    "print(cwd)\n",
    "\n",
    "#chdir=os.chdir(C:\\Users\\RAKES) \n",
    "#its change current workimg directory to written path in between two braketes.\n"
   ]
  },
  {
   "cell_type": "raw",
   "id": "cec40f2c",
   "metadata": {},
   "source": [
    "What are the . and .. folders?\n",
    "answer- . shows current directory and ..show perent directory."
   ]
  },
  {
   "cell_type": "raw",
   "id": "3ed34414",
   "metadata": {},
   "source": [
    "In C:\\bacon\\eggs\\spam.txt, which part is the dir name, and which part is the base name?\n",
    "answer-  spam.txt are the base name and C:\\bacon\\eggs\\ is dir name."
   ]
  },
  {
   "cell_type": "raw",
   "id": "f99d6c85",
   "metadata": {},
   "source": [
    "What are the three “mode” arguments that can be passed to the open() function?\n",
    "answer-read mode-r\n",
    "write mode-w\n",
    "append mode-a"
   ]
  },
  {
   "cell_type": "raw",
   "id": "d0e8ba66",
   "metadata": {},
   "source": [
    "What happens if an existing file is opened in write mode?\n",
    "answer- \n",
    "in write mode if we are writting old date will be replace with new one ."
   ]
  },
  {
   "cell_type": "raw",
   "id": "b65cc64a",
   "metadata": {},
   "source": [
    "How do you tell the difference between read() and readlines()?\n",
    "answer- \n",
    "read()-in read method entire content of file will read and in readlines method reades a specific line and return the same ."
   ]
  },
  {
   "cell_type": "raw",
   "id": "30c0aa7f",
   "metadata": {},
   "source": [
    "What data structure does a shelf value resemble?\n",
    " A shelf is a persistent, dictionary-like object that is stored as a file on disk. It is part of the Python standard library module shelve"
   ]
  }
 ],
 "metadata": {
  "kernelspec": {
   "display_name": "Python 3 (ipykernel)",
   "language": "python",
   "name": "python3"
  },
  "language_info": {
   "codemirror_mode": {
    "name": "ipython",
    "version": 3
   },
   "file_extension": ".py",
   "mimetype": "text/x-python",
   "name": "python",
   "nbconvert_exporter": "python",
   "pygments_lexer": "ipython3",
   "version": "3.9.13"
  }
 },
 "nbformat": 4,
 "nbformat_minor": 5
}
