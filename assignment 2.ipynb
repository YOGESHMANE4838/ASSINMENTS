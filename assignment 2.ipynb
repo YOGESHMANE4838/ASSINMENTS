{
 "cells": [
  {
   "cell_type": "raw",
   "id": "03d77462",
   "metadata": {},
   "source": [
    " 1.What are the two values of the Boolean data type? How do you write them?\n",
    "answer- 1)true     2)false\n",
    "\n",
    "we have to just assign a true and false value and exppression that ultimatly give resukt as true and False."
   ]
  },
  {
   "cell_type": "raw",
   "id": "bba720ce",
   "metadata": {},
   "source": [
    "2. What are the three different types of Boolean operators?\n",
    "answer - and ,or , and not\n"
   ]
  },
  {
   "cell_type": "code",
   "execution_count": 8,
   "id": "ff1d4292",
   "metadata": {},
   "outputs": [
    {
     "name": "stdout",
     "output_type": "stream",
     "text": [
      "True\n",
      "False\n",
      "True\n",
      "True\n",
      "True\n",
      "False\n"
     ]
    }
   ],
   "source": [
    "3. Make a list of each Boolean operator's truth tables (i.e. every possible combination of Boolean values for the operator and what it evaluate ).\n",
    "print(True and True)\n",
    "print(True and False)\n",
    "print(True or False)\n",
    "print(True or True)\n",
    "print(not False)\n",
    "print(not True)\n"
   ]
  },
  {
   "cell_type": "code",
   "execution_count": 11,
   "id": "369c62e3",
   "metadata": {},
   "outputs": [
    {
     "data": {
      "text/plain": [
       "False"
      ]
     },
     "execution_count": 11,
     "metadata": {},
     "output_type": "execute_result"
    }
   ],
   "source": [
    "##4. What are the values of the following expressions?\n",
    "(5 > 4) and (3 == 5)\n",
    "\n"
   ]
  },
  {
   "cell_type": "code",
   "execution_count": 12,
   "id": "723bfc2b",
   "metadata": {},
   "outputs": [
    {
     "data": {
      "text/plain": [
       "False"
      ]
     },
     "execution_count": 12,
     "metadata": {},
     "output_type": "execute_result"
    }
   ],
   "source": [
    "not (5 > 4)"
   ]
  },
  {
   "cell_type": "code",
   "execution_count": 13,
   "id": "d9709319",
   "metadata": {},
   "outputs": [
    {
     "data": {
      "text/plain": [
       "True"
      ]
     },
     "execution_count": 13,
     "metadata": {},
     "output_type": "execute_result"
    }
   ],
   "source": [
    "(5 > 4) or (3 == 5)"
   ]
  },
  {
   "cell_type": "code",
   "execution_count": 14,
   "id": "cf93fbe2",
   "metadata": {},
   "outputs": [
    {
     "data": {
      "text/plain": [
       "False"
      ]
     },
     "execution_count": 14,
     "metadata": {},
     "output_type": "execute_result"
    }
   ],
   "source": [
    "not ((5 > 4) or (3 == 5))"
   ]
  },
  {
   "cell_type": "code",
   "execution_count": 15,
   "id": "23ab435a",
   "metadata": {},
   "outputs": [
    {
     "data": {
      "text/plain": [
       "False"
      ]
     },
     "execution_count": 15,
     "metadata": {},
     "output_type": "execute_result"
    }
   ],
   "source": [
    "(True and True) and (True == False)"
   ]
  },
  {
   "cell_type": "code",
   "execution_count": 16,
   "id": "443fcdb9",
   "metadata": {},
   "outputs": [
    {
     "data": {
      "text/plain": [
       "True"
      ]
     },
     "execution_count": 16,
     "metadata": {},
     "output_type": "execute_result"
    }
   ],
   "source": [
    "(not False) or (not True)"
   ]
  },
  {
   "cell_type": "raw",
   "id": "07bf2c40",
   "metadata": {},
   "source": [
    "##What are the six comparison operators?\n",
    "EQUAL ==\n",
    "NOT EQUAL !=\n",
    "GREATER THAN >\n",
    "LESS THAN <\n",
    ">= GREATER THAN OR EQUAL TO\n",
    ">= LESS THAN OR EQUAL TO\n"
   ]
  },
  {
   "cell_type": "raw",
   "id": "a765a9ba",
   "metadata": {},
   "source": [
    "6. How do you tell the difference between the equal to and assignment operators?Describe a condition and when you would use one.\n",
    "ANSWER = equal to is a also assingment oprator used to assign values on the right to variable.\n",
    "and assignment oprator is used to assign value for variable \n"
   ]
  },
  {
   "cell_type": "code",
   "execution_count": 20,
   "id": "ec0ab85f",
   "metadata": {},
   "outputs": [
    {
     "name": "stdout",
     "output_type": "stream",
     "text": [
      "ham\n",
      "spam\n",
      "spam\n"
     ]
    }
   ],
   "source": [
    "spam = 0\n",
    "if spam == 10:\n",
    "    print('eggs')\n",
    "    if spam > 5:\n",
    "        print('bacon')\n",
    "else:\n",
    "    print('ham')\n",
    "    print('spam')\n",
    "    print('spam')\n"
   ]
  },
  {
   "cell_type": "raw",
   "id": "163178eb",
   "metadata": {},
   "source": [
    "in this code Indentation Error showing . the formatting of the code is not so correctd space to execute code correctly.\n"
   ]
  },
  {
   "cell_type": "code",
   "execution_count": null,
   "id": "4591dd20",
   "metadata": {},
   "outputs": [],
   "source": []
  },
  {
   "cell_type": "code",
   "execution_count": null,
   "id": "c62384e3",
   "metadata": {},
   "outputs": [],
   "source": []
  }
 ],
 "metadata": {
  "kernelspec": {
   "display_name": "Python 3 (ipykernel)",
   "language": "python",
   "name": "python3"
  },
  "language_info": {
   "codemirror_mode": {
    "name": "ipython",
    "version": 3
   },
   "file_extension": ".py",
   "mimetype": "text/x-python",
   "name": "python",
   "nbconvert_exporter": "python",
   "pygments_lexer": "ipython3",
   "version": "3.9.13"
  }
 },
 "nbformat": 4,
 "nbformat_minor": 5
}
